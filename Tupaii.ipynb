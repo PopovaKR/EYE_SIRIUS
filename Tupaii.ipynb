{
 "cells": [
  {
   "cell_type": "code",
   "execution_count": 1,
   "metadata": {},
   "outputs": [],
   "source": [
    "import numpy as np\n",
    "import pandas as pd\n",
    "import matplotlib.pyplot as plt\n",
    "from scipy.optimize import curve_fit\n",
    "from scipy.optimize import fsolve"
   ]
  },
  {
   "cell_type": "code",
   "execution_count": 2,
   "metadata": {},
   "outputs": [],
   "source": [
    "data = pd.read_csv('data', sep = '\\t')"
   ]
  },
  {
   "cell_type": "code",
   "execution_count": 3,
   "metadata": {},
   "outputs": [
    {
     "data": {
      "text/html": [
       "<div>\n",
       "<style scoped>\n",
       "    .dataframe tbody tr th:only-of-type {\n",
       "        vertical-align: middle;\n",
       "    }\n",
       "\n",
       "    .dataframe tbody tr th {\n",
       "        vertical-align: top;\n",
       "    }\n",
       "\n",
       "    .dataframe thead th {\n",
       "        text-align: right;\n",
       "    }\n",
       "</style>\n",
       "<table border=\"1\" class=\"dataframe\">\n",
       "  <thead>\n",
       "    <tr style=\"text-align: right;\">\n",
       "      <th></th>\n",
       "      <th>sigma</th>\n",
       "      <th>lambda</th>\n",
       "    </tr>\n",
       "  </thead>\n",
       "  <tbody>\n",
       "    <tr>\n",
       "      <th>0</th>\n",
       "      <td>0.000</td>\n",
       "      <td>1.000</td>\n",
       "    </tr>\n",
       "    <tr>\n",
       "      <th>1</th>\n",
       "      <td>0.023</td>\n",
       "      <td>1.005</td>\n",
       "    </tr>\n",
       "    <tr>\n",
       "      <th>2</th>\n",
       "      <td>0.054</td>\n",
       "      <td>1.010</td>\n",
       "    </tr>\n",
       "    <tr>\n",
       "      <th>3</th>\n",
       "      <td>0.099</td>\n",
       "      <td>1.016</td>\n",
       "    </tr>\n",
       "    <tr>\n",
       "      <th>4</th>\n",
       "      <td>0.130</td>\n",
       "      <td>1.021</td>\n",
       "    </tr>\n",
       "    <tr>\n",
       "      <th>5</th>\n",
       "      <td>0.197</td>\n",
       "      <td>1.027</td>\n",
       "    </tr>\n",
       "    <tr>\n",
       "      <th>6</th>\n",
       "      <td>0.271</td>\n",
       "      <td>1.032</td>\n",
       "    </tr>\n",
       "    <tr>\n",
       "      <th>7</th>\n",
       "      <td>0.346</td>\n",
       "      <td>1.038</td>\n",
       "    </tr>\n",
       "    <tr>\n",
       "      <th>8</th>\n",
       "      <td>0.427</td>\n",
       "      <td>1.043</td>\n",
       "    </tr>\n",
       "    <tr>\n",
       "      <th>9</th>\n",
       "      <td>0.538</td>\n",
       "      <td>1.048</td>\n",
       "    </tr>\n",
       "    <tr>\n",
       "      <th>10</th>\n",
       "      <td>0.641</td>\n",
       "      <td>1.053</td>\n",
       "    </tr>\n",
       "    <tr>\n",
       "      <th>11</th>\n",
       "      <td>0.744</td>\n",
       "      <td>1.059</td>\n",
       "    </tr>\n",
       "    <tr>\n",
       "      <th>12</th>\n",
       "      <td>0.840</td>\n",
       "      <td>1.064</td>\n",
       "    </tr>\n",
       "    <tr>\n",
       "      <th>13</th>\n",
       "      <td>0.958</td>\n",
       "      <td>1.069</td>\n",
       "    </tr>\n",
       "    <tr>\n",
       "      <th>14</th>\n",
       "      <td>1.062</td>\n",
       "      <td>1.074</td>\n",
       "    </tr>\n",
       "    <tr>\n",
       "      <th>15</th>\n",
       "      <td>1.187</td>\n",
       "      <td>1.080</td>\n",
       "    </tr>\n",
       "    <tr>\n",
       "      <th>16</th>\n",
       "      <td>1.320</td>\n",
       "      <td>1.087</td>\n",
       "    </tr>\n",
       "    <tr>\n",
       "      <th>17</th>\n",
       "      <td>1.445</td>\n",
       "      <td>1.093</td>\n",
       "    </tr>\n",
       "    <tr>\n",
       "      <th>18</th>\n",
       "      <td>1.548</td>\n",
       "      <td>1.097</td>\n",
       "    </tr>\n",
       "    <tr>\n",
       "      <th>19</th>\n",
       "      <td>1.666</td>\n",
       "      <td>1.102</td>\n",
       "    </tr>\n",
       "    <tr>\n",
       "      <th>20</th>\n",
       "      <td>1.777</td>\n",
       "      <td>1.107</td>\n",
       "    </tr>\n",
       "    <tr>\n",
       "      <th>21</th>\n",
       "      <td>1.909</td>\n",
       "      <td>1.113</td>\n",
       "    </tr>\n",
       "    <tr>\n",
       "      <th>22</th>\n",
       "      <td>2.020</td>\n",
       "      <td>1.118</td>\n",
       "    </tr>\n",
       "    <tr>\n",
       "      <th>23</th>\n",
       "      <td>2.116</td>\n",
       "      <td>1.123</td>\n",
       "    </tr>\n",
       "    <tr>\n",
       "      <th>24</th>\n",
       "      <td>2.248</td>\n",
       "      <td>1.128</td>\n",
       "    </tr>\n",
       "    <tr>\n",
       "      <th>25</th>\n",
       "      <td>2.359</td>\n",
       "      <td>1.133</td>\n",
       "    </tr>\n",
       "    <tr>\n",
       "      <th>26</th>\n",
       "      <td>2.484</td>\n",
       "      <td>1.138</td>\n",
       "    </tr>\n",
       "    <tr>\n",
       "      <th>27</th>\n",
       "      <td>2.594</td>\n",
       "      <td>1.143</td>\n",
       "    </tr>\n",
       "    <tr>\n",
       "      <th>28</th>\n",
       "      <td>2.712</td>\n",
       "      <td>1.148</td>\n",
       "    </tr>\n",
       "  </tbody>\n",
       "</table>\n",
       "</div>"
      ],
      "text/plain": [
       "    sigma  lambda\n",
       "0   0.000   1.000\n",
       "1   0.023   1.005\n",
       "2   0.054   1.010\n",
       "3   0.099   1.016\n",
       "4   0.130   1.021\n",
       "5   0.197   1.027\n",
       "6   0.271   1.032\n",
       "7   0.346   1.038\n",
       "8   0.427   1.043\n",
       "9   0.538   1.048\n",
       "10  0.641   1.053\n",
       "11  0.744   1.059\n",
       "12  0.840   1.064\n",
       "13  0.958   1.069\n",
       "14  1.062   1.074\n",
       "15  1.187   1.080\n",
       "16  1.320   1.087\n",
       "17  1.445   1.093\n",
       "18  1.548   1.097\n",
       "19  1.666   1.102\n",
       "20  1.777   1.107\n",
       "21  1.909   1.113\n",
       "22  2.020   1.118\n",
       "23  2.116   1.123\n",
       "24  2.248   1.128\n",
       "25  2.359   1.133\n",
       "26  2.484   1.138\n",
       "27  2.594   1.143\n",
       "28  2.712   1.148"
      ]
     },
     "execution_count": 3,
     "metadata": {},
     "output_type": "execute_result"
    }
   ],
   "source": [
    "data"
   ]
  },
  {
   "cell_type": "code",
   "execution_count": 4,
   "metadata": {},
   "outputs": [],
   "source": [
    "def func(lamb, Jm = 0.19208908, mu = 0.83608739):\n",
    "    return mu * (lamb ** 2 - 1 / lamb) / (Jm + 3 - 2 / lamb - lamb ** 2)"
   ]
  },
  {
   "cell_type": "code",
   "execution_count": 5,
   "metadata": {},
   "outputs": [],
   "source": [
    "popt, pcov = curve_fit(func, data['lambda'].values, data['sigma'].values)"
   ]
  },
  {
   "cell_type": "code",
   "execution_count": 6,
   "metadata": {},
   "outputs": [
    {
     "data": {
      "text/plain": [
       "array([0.19208908, 0.83608739])"
      ]
     },
     "execution_count": 6,
     "metadata": {},
     "output_type": "execute_result"
    }
   ],
   "source": [
    "popt"
   ]
  },
  {
   "cell_type": "code",
   "execution_count": 7,
   "metadata": {},
   "outputs": [],
   "source": [
    "mod_sigma = func(data['lambda'].values)\n",
    "VU_sigma = func(data['lambda'].values, 0.4, 2)"
   ]
  },
  {
   "cell_type": "code",
   "execution_count": 8,
   "metadata": {},
   "outputs": [
    {
     "data": {
      "image/png": "[encoded data removed]",
      "text/plain": [
       "<Figure size 864x504 with 1 Axes>"
      ]
     },
     "metadata": {
      "needs_background": "light"
     },
     "output_type": "display_data"
    }
   ],
   "source": [
    "fig, ax = plt.subplots()\n",
    "\n",
    "fig.set_figheight(7)\n",
    "fig.set_figwidth(12)\n",
    "ax.grid(color='#000000', alpha=0.15, linestyle='-', linewidth=1, which='major')\n",
    "ax.grid(color='#000000', alpha=0.1, linestyle='-', linewidth=0.5, which='minor')\n",
    "plt.title('$\\sigma=\\sigma (\\lambda)$', fontsize = 16)\n",
    "\n",
    "plt.xlabel('$\\lambda$, [1]', fontsize = 16)\n",
    "plt.ylabel('$\\sigma$, [Мпа]', fontsize = 16)\n",
    "\n",
    "#ax.plot(data['lambda'],data['sigma'], label = 'Experimental')\n",
    "ax.scatter(data['lambda'],data['sigma'], marker = 'x', color = 'r')\n",
    "ax.plot(data['lambda'], mod_sigma, label = 'Fitted data')\n",
    "#ax.plot(data['lambda'], VU_sigma, label = 'VU')\n",
    "\n",
    "ax.legend(loc = 'best')\n",
    "plt.show()"
   ]
  },
  {
   "cell_type": "markdown",
   "metadata": {},
   "source": [
    "$\\frac {\\partial W}{\\partial \\alpha}(\\alpha) = \\frac {2\\mu J_m ({-\\alpha}^{-5} + \\alpha)}{J_m - {\\alpha}^{-4} - 2{\\alpha}^2 + 3}$\n",
    "\n",
    "$\\mu = 0.83608739, \\text{[МПа]}$\n",
    "\n",
    "$J_m = 0.19208908$"
   ]
  },
  {
   "cell_type": "code",
   "execution_count": 9,
   "metadata": {},
   "outputs": [],
   "source": [
    "mu = 0.83608739 * 1e6\n",
    "Jm = 0.19208908"
   ]
  },
  {
   "cell_type": "code",
   "execution_count": 10,
   "metadata": {},
   "outputs": [
    {
     "data": {
      "text/plain": [
       "321206.5150894024"
      ]
     },
     "execution_count": 10,
     "metadata": {},
     "output_type": "execute_result"
    }
   ],
   "source": [
    "2 * mu * Jm"
   ]
  },
  {
   "cell_type": "code",
   "execution_count": 11,
   "metadata": {},
   "outputs": [],
   "source": [
    "def dWda(a):\n",
    "    mu = 0.83608739 * 1e6\n",
    "    Jm = 0.19208908\n",
    "    return 2 * mu * Jm * (-a ** (-5) + a) / (Jm - a ** (-4) - 2*a**2 + 3)"
   ]
  },
  {
   "cell_type": "code",
   "execution_count": 12,
   "metadata": {},
   "outputs": [],
   "source": [
    "totaltime = 120 #days\n",
    "sigmatm = 20000\n",
    "p0 = 2.0 * 1e3\n",
    "N = 100\n",
    "h0 = 0.12 * 1e-3\n",
    "gr = 1.0\n",
    "beta = 0.2 #when totaltime in days"
   ]
  },
  {
   "cell_type": "code",
   "execution_count": 13,
   "metadata": {},
   "outputs": [],
   "source": [
    "def calcp(t):\n",
    "    return p0 * (1-np.exp(-beta*t/N*totaltime))"
   ]
  },
  {
   "cell_type": "code",
   "execution_count": 39,
   "metadata": {},
   "outputs": [
    {
     "data": {
      "text/plain": [
       "array([   0.        ,  426.74427787,  762.43321639, 1026.49548808,\n",
       "       1234.21422805, 1397.61157618, 1526.14448264, 1627.25204792,\n",
       "       1706.78607574, 1769.34975792, 1818.56409342, 1857.27746089,\n",
       "       1887.73047433, 1911.68566316, 1930.52948211, 1945.35255511,\n",
       "       1957.01279731, 1966.18506869, 1973.40023292, 1979.07588211,\n",
       "       1983.5405059 , 1987.05250336, 1989.81513841, 1991.98830412,\n",
       "       1993.6977768 , 1995.04249565, 1996.10028895, 1996.93237864,\n",
       "       1997.58692357, 1998.10180685, 1998.50682838, 1998.8254296 ,\n",
       "       1999.0760502 , 1999.27319535, 1999.42827521, 1999.55026535,\n",
       "       1999.6462262 , 1999.72171167, 1999.78109065, 1999.8277998 ,\n",
       "       1999.86454253, 1999.89344538, 1999.91618117, 1999.93406577,\n",
       "       1999.9481343 , 1999.95920099, 1999.96790636, 1999.97475425,\n",
       "       1999.98014099, 1999.98437835, 1999.98771158, 1999.99033358,\n",
       "       1999.99239613, 1999.99401858, 1999.99529485, 1999.9962988 ,\n",
       "       1999.99708853, 1999.99770976, 1999.99819843, 1999.99858284,\n",
       "       1999.99888522, 1999.99912308, 1999.99931019, 1999.99945738,\n",
       "       1999.99957316, 1999.99966423, 1999.99973588, 1999.99979223,\n",
       "       1999.99983657, 1999.99987144, 1999.99989887, 1999.99992045,\n",
       "       1999.99993742, 1999.99995077, 1999.99996128, 1999.99996954,\n",
       "       1999.99997604, 1999.99998115, 1999.99998517, 1999.99998834,\n",
       "       1999.99999083, 1999.99999278, 1999.99999432, 1999.99999553,\n",
       "       1999.99999649, 1999.99999724, 1999.99999783, 1999.99999829,\n",
       "       1999.99999865, 1999.99999894, 1999.99999917, 1999.99999935,\n",
       "       1999.99999948, 1999.99999959, 1999.99999968, 1999.99999975,\n",
       "       1999.9999998 , 1999.99999984, 1999.99999988, 1999.9999999 ])"
      ]
     },
     "execution_count": 39,
     "metadata": {},
     "output_type": "execute_result"
    }
   ],
   "source": [
    "p"
   ]
  },
  {
   "cell_type": "code",
   "execution_count": 47,
   "metadata": {},
   "outputs": [],
   "source": [
    "alpha = np.zeros((N, 2)).astype(np.double)\n",
    "h = np.zeros((N, 2)).astype(np.double)\n",
    "gt = np.zeros((N, 2)).astype(np.double)\n",
    "a = np.zeros(N).astype(np.double)\n",
    "sigma = np.zeros((N, 2)).astype(np.double)\n",
    "dt = totaltime / N\n",
    "p = calcp(np.arange(N)).astype(np.double)\n",
    "\n",
    "alpha[0][0] = 1.0\n",
    "alpha[0][1] = 1.0\n",
    "gt[0][0] = 1.0\n",
    "gt[0][1] = 1.0\n",
    "\n",
    "bt = 1e-5\n",
    "a[0] = 6.71 / 2 * 1e-3\n",
    "\n",
    "sigma[0][0] = p[0] * a[0] / 2 / h0 * alpha[0][0] ** 2\n",
    "sigma[0][1] = p[0] * a[0] / 2 / h0 * alpha[0][0] ** 2"
   ]
  },
  {
   "cell_type": "code",
   "execution_count": 48,
   "metadata": {},
   "outputs": [],
   "source": [
    "def f1(a,t):\n",
    "    I = 3*(a[0] ** 2 * gt[t][0]**2 + (a[0] + h0)**2 * gt[t][1]**2 * h0) / 2\n",
    "    print(I)\n",
    "    return (gr * dWda(a / (a[0] * gt[t][0])) / gt[t][0] / a[0] / (a / (a[0] * gt[t][0])) ** 2 + gr * dWda((a ** 3 + I) ** (1/3) / (a[0]+ h0) / gt[t][1]) / gt[t][1] / (a[0]+ h0) / ((a ** 3 + I) ** (1/3) / (a[0] + h0) / gt[t][1]) ** 2) * h0 / 2 - p[t]"
   ]
  },
  {
   "cell_type": "code",
   "execution_count": 49,
   "metadata": {},
   "outputs": [],
   "source": [
    "def f(a, t):\n",
    "    s1 = dWda(alpha[t][0]) / (gt[t][0] * a[0] * alpha[t][0] ** 2)\n",
    "    s2 = dWda(alpha[t][1]) / (gt[t][0] * (a[0] + h0) * alpha[t][1] ** 2)\n",
    "    #print(s1)\n",
    "    return  0.5 * gr * h0 * (s1+s2) - p[t]"
   ]
  },
  {
   "cell_type": "code",
   "execution_count": 50,
   "metadata": {},
   "outputs": [
    {
     "name": "stderr",
     "output_type": "stream",
     "text": [
      "/usr/lib/python3/dist-packages/ipykernel_launcher.py:4: RuntimeWarning: divide by zero encountered in double_scalars\n",
      "  after removing the cwd from sys.path.\n",
      "/usr/lib/python3/dist-packages/ipykernel_launcher.py:4: RuntimeWarning: invalid value encountered in double_scalars\n",
      "  after removing the cwd from sys.path.\n",
      "/usr/local/lib/python3.7/dist-packages/scipy/optimize/minpack.py:175: RuntimeWarning: The iteration is not making good progress, as measured by the \n",
      "  improvement from the last ten iterations.\n",
      "  warnings.warn(msg, RuntimeWarning)\n"
     ]
    }
   ],
   "source": [
    "for t in range(1,N):\n",
    "    gt[t][0] = gt[t-1][0] + dt * bt * (sigma[t-1][0] - sigmatm * p[t-1] / p0)\n",
    "    gt[t][1] = gt[t-1][1] + dt * bt * (sigma[t-1][1] - sigmatm * p[t-1] / p0)\n",
    "    #ret = fsolve(f, [a[0]],t)\n",
    "    a[t] = fsolve(f, [a[0]],t)\n",
    "    alpha[t][0] = a[t] / (a[0] * gt[t][0])\n",
    "    I1 = 3 * (a[0] ** 2 * gt[t][0]**2 + (a[0] + h0)**2 * gt[t][1]**2) * h0 / 2\n",
    "    alpha[t][1] = (a[t] ** 3 + I1) ** (1/3) / (a[0] + h0) / gt[t][1]\n",
    "    sigma[t][0] = p[t] * a[t] * alpha[t][0]**2 / 2 / h0\n",
    "    sigma[t][1] = p[t] * a[t] * alpha[t][1]**2 / 2 / h0"
   ]
  },
  {
   "cell_type": "code",
   "execution_count": 55,
   "metadata": {},
   "outputs": [
    {
     "data": {
      "text/plain": [
       "array([0.003355, 0.003355, 0.003355, 0.003355, 0.003355, 0.003355,\n",
       "       0.003355, 0.003355, 0.003355, 0.003355, 0.003355, 0.003355,\n",
       "       0.003355, 0.003355, 0.003355, 0.003355, 0.003355, 0.003355,\n",
       "       0.003355, 0.003355, 0.003355, 0.003355, 0.003355, 0.003355,\n",
       "       0.003355, 0.003355, 0.003355, 0.003355, 0.003355, 0.003355,\n",
       "       0.003355, 0.003355, 0.003355, 0.003355, 0.003355, 0.003355,\n",
       "       0.003355, 0.003355, 0.003355, 0.003355, 0.003355, 0.003355,\n",
       "       0.003355, 0.003355, 0.003355, 0.003355, 0.003355, 0.003355,\n",
       "       0.003355, 0.003355, 0.003355, 0.003355, 0.003355, 0.003355,\n",
       "       0.003355, 0.003355, 0.003355, 0.003355, 0.003355, 0.003355,\n",
       "       0.003355, 0.003355, 0.003355, 0.003355, 0.003355, 0.003355,\n",
       "       0.003355, 0.003355, 0.003355, 0.003355, 0.003355, 0.003355,\n",
       "       0.003355, 0.003355, 0.003355, 0.003355, 0.003355, 0.003355,\n",
       "       0.003355, 0.003355, 0.003355, 0.003355, 0.003355, 0.003355,\n",
       "       0.003355, 0.003355, 0.003355, 0.003355, 0.003355, 0.003355,\n",
       "       0.003355, 0.003355, 0.003355, 0.003355, 0.003355, 0.003355,\n",
       "       0.003355, 0.003355, 0.003355, 0.003355])"
      ]
     },
     "execution_count": 55,
     "metadata": {},
     "output_type": "execute_result"
    }
   ],
   "source": [
    "a"
   ]
  },
  {
   "cell_type": "code",
   "execution_count": 52,
   "metadata": {},
   "outputs": [
    {
     "data": {
      "text/plain": [
       "array([[1.        , 1.        ],\n",
       "       [1.        , 1.00000686],\n",
       "       [0.98002989, 0.98137984],\n",
       "       [0.95081803, 0.95388261],\n",
       "       [0.92232213, 0.92659473],\n",
       "       [0.89908807, 0.90382901],\n",
       "       [0.88179998, 0.8864152 ],\n",
       "       [0.86958543, 0.87371191],\n",
       "       [0.86123868, 0.86471051],\n",
       "       [0.85567224, 0.85846034],\n",
       "       [0.85203151, 0.85418847],\n",
       "       [0.8496888 , 0.85130691],\n",
       "       [0.84820214, 0.84938516],\n",
       "       [0.84726985, 0.84811618],\n",
       "       [0.84669104, 0.84728549],\n",
       "       [0.84633471, 0.84674577],\n",
       "       [0.84611686, 0.84639738],\n",
       "       [0.84598444, 0.84617373],\n",
       "       [0.84590432, 0.84603083],\n",
       "       [0.84585603, 0.84593989],\n",
       "       [0.845827  , 0.84588221],\n",
       "       [0.8458096 , 0.84584572],\n",
       "       [0.84579919, 0.8458227 ],\n",
       "       [0.84579297, 0.8458082 ],\n",
       "       [0.84578926, 0.84579909],\n",
       "       [0.84578705, 0.84579337],\n",
       "       [0.84578573, 0.84578978],\n",
       "       [0.84578494, 0.84578754],\n",
       "       [0.84578448, 0.84578613],\n",
       "       [0.8457842 , 0.84578525],\n",
       "       [0.84578403, 0.8457847 ],\n",
       "       [0.84578394, 0.84578436],\n",
       "       [0.84578388, 0.84578415],\n",
       "       [0.84578384, 0.84578401],\n",
       "       [0.84578382, 0.84578393],\n",
       "       [0.84578381, 0.84578388],\n",
       "       [0.8457838 , 0.84578385],\n",
       "       [0.8457838 , 0.84578383],\n",
       "       [0.8457838 , 0.84578381],\n",
       "       [0.84578379, 0.84578381],\n",
       "       [0.84578379, 0.8457838 ],\n",
       "       [0.84578379, 0.8457838 ],\n",
       "       [0.84578379, 0.8457838 ],\n",
       "       [0.84578379, 0.84578379],\n",
       "       [0.84578379, 0.84578379],\n",
       "       [0.84578379, 0.84578379],\n",
       "       [0.84578379, 0.84578379],\n",
       "       [0.84578379, 0.84578379],\n",
       "       [0.84578379, 0.84578379],\n",
       "       [0.84578379, 0.84578379],\n",
       "       [0.84578379, 0.84578379],\n",
       "       [0.84578379, 0.84578379],\n",
       "       [0.84578379, 0.84578379],\n",
       "       [0.84578379, 0.84578379],\n",
       "       [0.84578379, 0.84578379],\n",
       "       [0.84578379, 0.84578379],\n",
       "       [0.84578379, 0.84578379],\n",
       "       [0.84578379, 0.84578379],\n",
       "       [0.84578379, 0.84578379],\n",
       "       [0.84578379, 0.84578379],\n",
       "       [0.84578379, 0.84578379],\n",
       "       [0.84578379, 0.84578379],\n",
       "       [0.84578379, 0.84578379],\n",
       "       [0.84578379, 0.84578379],\n",
       "       [0.84578379, 0.84578379],\n",
       "       [0.84578379, 0.84578379],\n",
       "       [0.84578379, 0.84578379],\n",
       "       [0.84578379, 0.84578379],\n",
       "       [0.84578379, 0.84578379],\n",
       "       [0.84578379, 0.84578379],\n",
       "       [0.84578379, 0.84578379],\n",
       "       [0.84578379, 0.84578379],\n",
       "       [0.84578379, 0.84578379],\n",
       "       [0.84578379, 0.84578379],\n",
       "       [0.84578379, 0.84578379],\n",
       "       [0.84578379, 0.84578379],\n",
       "       [0.84578379, 0.84578379],\n",
       "       [0.84578379, 0.84578379],\n",
       "       [0.84578379, 0.84578379],\n",
       "       [0.84578379, 0.84578379],\n",
       "       [0.84578379, 0.84578379],\n",
       "       [0.84578379, 0.84578379],\n",
       "       [0.84578379, 0.84578379],\n",
       "       [0.84578379, 0.84578379],\n",
       "       [0.84578379, 0.84578379],\n",
       "       [0.84578379, 0.84578379],\n",
       "       [0.84578379, 0.84578379],\n",
       "       [0.84578379, 0.84578379],\n",
       "       [0.84578379, 0.84578379],\n",
       "       [0.84578379, 0.84578379],\n",
       "       [0.84578379, 0.84578379],\n",
       "       [0.84578379, 0.84578379],\n",
       "       [0.84578379, 0.84578379],\n",
       "       [0.84578379, 0.84578379],\n",
       "       [0.84578379, 0.84578379],\n",
       "       [0.84578379, 0.84578379],\n",
       "       [0.84578379, 0.84578379],\n",
       "       [0.84578379, 0.84578379],\n",
       "       [0.84578379, 0.84578379],\n",
       "       [0.84578379, 0.84578379]])"
      ]
     },
     "execution_count": 52,
     "metadata": {},
     "output_type": "execute_result"
    }
   ],
   "source": [
    "alpha"
   ]
  },
  {
   "cell_type": "code",
   "execution_count": 53,
   "metadata": {},
   "outputs": [
    {
     "data": {
      "text/plain": [
       "array([[1.        , 1.        ],\n",
       "       [1.        , 1.        ],\n",
       "       [1.02037704, 1.02037802],\n",
       "       [1.05172595, 1.05206558],\n",
       "       [1.08421989, 1.08556464],\n",
       "       [1.1122381 , 1.11521839],\n",
       "       [1.13404403, 1.13902828],\n",
       "       [1.14997327, 1.15704675],\n",
       "       [1.16111831, 1.17015546],\n",
       "       [1.16867178, 1.17942459],\n",
       "       [1.17366551, 1.18583682],\n",
       "       [1.17690147, 1.19019549],\n",
       "       [1.17896425, 1.19311579],\n",
       "       [1.18026152, 1.19504902],\n",
       "       [1.18106836, 1.19631599],\n",
       "       [1.18156562, 1.19713936],\n",
       "       [1.18186984, 1.19767069],\n",
       "       [1.18205484, 1.19801156],\n",
       "       [1.1821668 , 1.19822916],\n",
       "       [1.18223429, 1.19836752],\n",
       "       [1.18227486, 1.19845519],\n",
       "       [1.18229918, 1.19851058],\n",
       "       [1.18231373, 1.1985455 ],\n",
       "       [1.18232243, 1.19856747],\n",
       "       [1.18232762, 1.19858127],\n",
       "       [1.18233071, 1.19858993],\n",
       "       [1.18233255, 1.19859535],\n",
       "       [1.18233365, 1.19859874],\n",
       "       [1.1823343 , 1.19860086],\n",
       "       [1.18233469, 1.19860219],\n",
       "       [1.18233492, 1.19860302],\n",
       "       [1.18233506, 1.19860353],\n",
       "       [1.18233514, 1.19860385],\n",
       "       [1.18233519, 1.19860405],\n",
       "       [1.18233522, 1.19860418],\n",
       "       [1.18233523, 1.19860426],\n",
       "       [1.18233524, 1.19860431],\n",
       "       [1.18233525, 1.19860434],\n",
       "       [1.18233525, 1.19860435],\n",
       "       [1.18233526, 1.19860437],\n",
       "       [1.18233526, 1.19860437],\n",
       "       [1.18233526, 1.19860438],\n",
       "       [1.18233526, 1.19860438],\n",
       "       [1.18233526, 1.19860438],\n",
       "       [1.18233526, 1.19860438],\n",
       "       [1.18233526, 1.19860438],\n",
       "       [1.18233526, 1.19860438],\n",
       "       [1.18233526, 1.19860439],\n",
       "       [1.18233526, 1.19860439],\n",
       "       [1.18233526, 1.19860439],\n",
       "       [1.18233526, 1.19860439],\n",
       "       [1.18233526, 1.19860439],\n",
       "       [1.18233526, 1.19860439],\n",
       "       [1.18233526, 1.19860439],\n",
       "       [1.18233526, 1.19860439],\n",
       "       [1.18233526, 1.19860439],\n",
       "       [1.18233526, 1.19860439],\n",
       "       [1.18233526, 1.19860439],\n",
       "       [1.18233526, 1.19860439],\n",
       "       [1.18233526, 1.19860439],\n",
       "       [1.18233526, 1.19860439],\n",
       "       [1.18233526, 1.19860439],\n",
       "       [1.18233526, 1.19860439],\n",
       "       [1.18233526, 1.19860439],\n",
       "       [1.18233526, 1.19860439],\n",
       "       [1.18233526, 1.19860439],\n",
       "       [1.18233526, 1.19860439],\n",
       "       [1.18233526, 1.19860439],\n",
       "       [1.18233526, 1.19860439],\n",
       "       [1.18233526, 1.19860439],\n",
       "       [1.18233526, 1.19860439],\n",
       "       [1.18233526, 1.19860439],\n",
       "       [1.18233526, 1.19860439],\n",
       "       [1.18233526, 1.19860439],\n",
       "       [1.18233526, 1.19860439],\n",
       "       [1.18233526, 1.19860439],\n",
       "       [1.18233526, 1.19860439],\n",
       "       [1.18233526, 1.19860439],\n",
       "       [1.18233526, 1.19860439],\n",
       "       [1.18233526, 1.19860439],\n",
       "       [1.18233526, 1.19860439],\n",
       "       [1.18233526, 1.19860439],\n",
       "       [1.18233526, 1.19860439],\n",
       "       [1.18233526, 1.19860439],\n",
       "       [1.18233526, 1.19860439],\n",
       "       [1.18233526, 1.19860439],\n",
       "       [1.18233526, 1.19860439],\n",
       "       [1.18233526, 1.19860439],\n",
       "       [1.18233526, 1.19860439],\n",
       "       [1.18233526, 1.19860439],\n",
       "       [1.18233526, 1.19860439],\n",
       "       [1.18233526, 1.19860439],\n",
       "       [1.18233526, 1.19860439],\n",
       "       [1.18233526, 1.19860439],\n",
       "       [1.18233526, 1.19860439],\n",
       "       [1.18233526, 1.19860439],\n",
       "       [1.18233526, 1.19860439],\n",
       "       [1.18233526, 1.19860439],\n",
       "       [1.18233526, 1.19860439],\n",
       "       [1.18233526, 1.19860439]])"
      ]
     },
     "execution_count": 53,
     "metadata": {},
     "output_type": "execute_result"
    }
   ],
   "source": [
    "gt"
   ]
  },
  {
   "cell_type": "code",
   "execution_count": 54,
   "metadata": {},
   "outputs": [],
   "source": [
    "def ftest(x,t):\n",
    "    #print('a')\n",
    "    return x ** 2 - t"
   ]
  },
  {
   "cell_type": "code",
   "execution_count": null,
   "metadata": {},
   "outputs": [],
   "source": [
    "fsolve(ftest, [1], 121)"
   ]
  },
  {
   "cell_type": "code",
   "execution_count": null,
   "metadata": {},
   "outputs": [],
   "source": [
    "for t in range(5):\n",
    "    print(fsolve(ftest, [1], t))"
   ]
  },
  {
   "cell_type": "code",
   "execution_count": 57,
   "metadata": {},
   "outputs": [
    {
     "data": {
      "text/plain": [
       "array([1., 1., 1., 1., 1., 1., 1., 1., 1., 1., 1., 1., 1., 1., 1., 1., 1.,\n",
       "       1., 1., 1., 1., 1., 1., 1., 1., 1., 1., 1., 1., 1., 1., 1., 1., 1.,\n",
       "       1., 1., 1., 1., 1., 1., 1., 1., 1., 1., 1., 1., 1., 1., 1., 1., 1.,\n",
       "       1., 1., 1., 1., 1., 1., 1., 1., 1., 1., 1., 1., 1., 1., 1., 1., 1.,\n",
       "       1., 1., 1., 1., 1., 1., 1., 1., 1., 1., 1., 1., 1., 1., 1., 1., 1.,\n",
       "       1., 1., 1., 1., 1., 1., 1., 1., 1., 1., 1., 1., 1., 1., 1.])"
      ]
     },
     "execution_count": 57,
     "metadata": {},
     "output_type": "execute_result"
    }
   ],
   "source": [
    "q = alpha[:,0] * gt[:,0]\n",
    "q"
   ]
  },
  {
   "cell_type": "code",
   "execution_count": 58,
   "metadata": {},
   "outputs": [],
   "source": [
    "q = np.zeros(N)\n",
    "for t in range(N):\n",
    "    q[t] = alpha[t][1] * gt[t][1]"
   ]
  },
  {
   "cell_type": "code",
   "execution_count": 30,
   "metadata": {},
   "outputs": [
    {
     "data": {
      "text/plain": [
       "array([1.        , 1.00000686, 1.00002046, 1.00004473, 1.00007733,\n",
       "       1.00011641, 1.00016052, 1.0002085 , 1.00025943, 1.00031262,\n",
       "       1.00036749, 1.0004236 , 1.00048062, 1.00053828, 1.00059636,\n",
       "       1.00065471, 1.00071319, 1.0007717 , 1.00083017, 1.00088853,\n",
       "       1.00094675, 1.00100478, 1.0010626 , 1.00112018, 1.00117751,\n",
       "       1.00123459, 1.00129139, 1.00134791, 1.00140415, 1.00146011,\n",
       "       1.00151578, 1.00157116, 1.00162625, 1.00168105, 1.00173557,\n",
       "       1.0017898 , 1.00184374, 1.0018974 , 1.00195077, 1.00200387,\n",
       "       1.00205668, 1.00210921, 1.00216147, 1.00221345, 1.00226516,\n",
       "       1.0023166 , 1.00236776, 1.00241866, 1.0024693 , 1.00251967,\n",
       "       1.00256977, 1.00261962, 1.00266921, 1.00271854, 1.00276761,\n",
       "       1.00281643, 1.002865  , 1.00291331, 1.00296138, 1.0030092 ,\n",
       "       1.00305678, 1.00310411, 1.0031512 , 1.00319805, 1.00324466,\n",
       "       1.00329103, 1.00333717, 1.00338307, 1.00342874, 1.00347417,\n",
       "       1.00351938, 1.00356436, 1.00360911, 1.00365363, 1.00369793,\n",
       "       1.00374201, 1.00378587, 1.00382951, 1.00387293, 1.00391613,\n",
       "       1.00395911, 1.00400188, 1.00404444, 1.00408679, 1.00412893,\n",
       "       1.00417085, 1.00421257, 1.00425408, 1.00429539, 1.0043365 ,\n",
       "       1.0043774 , 1.0044181 , 1.00445859, 1.00449889, 1.004539  ,\n",
       "       1.0045789 , 1.00461861, 1.00465813, 1.00469745, 1.00473658])"
      ]
     },
     "execution_count": 30,
     "metadata": {},
     "output_type": "execute_result"
    }
   ],
   "source": [
    "q"
   ]
  },
  {
   "cell_type": "code",
   "execution_count": null,
   "metadata": {},
   "outputs": [],
   "source": []
  }
 ],
 "metadata": {
  "kernelspec": {
   "display_name": "Python 3",
   "language": "python",
   "name": "python3"
  },
  "language_info": {
   "codemirror_mode": {
    "name": "ipython",
    "version": 3
   },
   "file_extension": ".py",
   "mimetype": "text/x-python",
   "name": "python",
   "nbconvert_exporter": "python",
   "pygments_lexer": "ipython3",
   "version": "3.7.3"
  }
 },
 "nbformat": 4,
 "nbformat_minor": 2
}
